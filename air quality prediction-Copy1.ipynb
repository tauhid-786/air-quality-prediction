{
 "cells": [
  {
   "cell_type": "code",
   "execution_count": 1,
   "metadata": {},
   "outputs": [],
   "source": [
    "import numpy as np\n",
    "import pandas as pd\n",
    "import matplotlib.pyplot as plt\n",
    "from sklearn.linear_model import LinearRegression\n",
    "import os"
   ]
  },
  {
   "cell_type": "code",
   "execution_count": 67,
   "metadata": {},
   "outputs": [
    {
     "data": {
      "text/plain": [
       "'C:\\\\Users\\\\hp'"
      ]
     },
     "execution_count": 67,
     "metadata": {},
     "output_type": "execute_result"
    }
   ],
   "source": [
    "pwd   ##it shows default directory of my computer which is read by jupyter notebook"
   ]
  },
  {
   "cell_type": "code",
   "execution_count": 2,
   "metadata": {},
   "outputs": [],
   "source": [
    "train=pd.read_csv(r\"C:\\Users\\hp\\Documents\\Trainining data multivariate regression air quality prediction\\Train.csv\")\n",
    "test=pd.read_csv(r\"C:\\Users\\hp\\Documents\\Trainining data multivariate regression air quality prediction\\Test data multivariate regression air quality prediction\\Test.csv\")\n",
    "## to read data from local disk to jupyter"
   ]
  },
  {
   "cell_type": "code",
   "execution_count": null,
   "metadata": {},
   "outputs": [],
   "source": []
  },
  {
   "cell_type": "code",
   "execution_count": 69,
   "metadata": {},
   "outputs": [
    {
     "name": "stdout",
     "output_type": "stream",
     "text": [
      "<class 'numpy.ndarray'>\n",
      "<class 'pandas.core.frame.DataFrame'>\n",
      "(1600, 6)\n",
      "(400, 5)\n"
     ]
    }
   ],
   "source": [
    "train=train.values   ## to convert given data in n-dimension numpy array\n",
    "test_x=test.values      ##to convert given data in n-dimension numpy array\n",
    "print(type(train))\n",
    "print(type(test))\n",
    "print(train.shape)\n",
    "print(test.shape)"
   ]
  },
  {
   "cell_type": "code",
   "execution_count": 70,
   "metadata": {},
   "outputs": [
    {
     "name": "stdout",
     "output_type": "stream",
     "text": [
      "(1600, 5)\n",
      "(1600,)\n"
     ]
    }
   ],
   "source": [
    "train_x=train[:,0:5]  #we extract 5 columns from training data as x variable as these are features\n",
    "train_y=train[:,5]    #we extract 6th coulmn from training data as these are target\n",
    "print(train_x.shape)\n",
    "print(train_y.shape)"
   ]
  },
  {
   "cell_type": "markdown",
   "metadata": {},
   "source": [
    "## training on given training data by linear regression library\n",
    "## there are 3 steps of training"
   ]
  },
  {
   "cell_type": "code",
   "execution_count": 71,
   "metadata": {},
   "outputs": [
    {
     "name": "stdout",
     "output_type": "stream",
     "text": [
      "[29.68187118 92.66247759  8.28062089 44.76773522  2.51916121]\n",
      "4.990966735574959\n"
     ]
    }
   ],
   "source": [
    "#step 1 to create an object\n",
    "lr=LinearRegression(normalize=True)  #normalize=true normalize the data and it create a object of linearregression\n",
    "#step 2 training\n",
    "lr.fit(train_x,train_y)\n",
    "#step 3 output parameters\n",
    "print(lr.coef_)\n",
    "print(lr.intercept_)"
   ]
  },
  {
   "cell_type": "markdown",
   "metadata": {},
   "source": [
    "## now our data is trained now we predict output for given data"
   ]
  },
  {
   "cell_type": "code",
   "execution_count": 72,
   "metadata": {},
   "outputs": [
    {
     "name": "stdout",
     "output_type": "stream",
     "text": [
      "0.9660939669975616\n",
      "1.0\n"
     ]
    }
   ],
   "source": [
    "test_y=lr.predict(test_x)\n",
    "print(lr.score(train_x,train_y))\n",
    "print(lr.score(test_x,test_y))"
   ]
  },
  {
   "cell_type": "markdown",
   "metadata": {},
   "source": [
    "## cross validation"
   ]
  },
  {
   "cell_type": "code",
   "execution_count": 73,
   "metadata": {},
   "outputs": [],
   "source": [
    "from sklearn.model_selection import cross_val_score  #to cross validate the data"
   ]
  },
  {
   "cell_type": "code",
   "execution_count": 74,
   "metadata": {},
   "outputs": [
    {
     "name": "stdout",
     "output_type": "stream",
     "text": [
      "[0.89400912 0.96549555 0.9729463  0.95168598 0.96785424 0.95163391\n",
      " 0.90894242 0.95540621 0.97352969 0.95987903 0.96845384 0.97052302\n",
      " 0.95476188 0.9509099  0.96531951 0.97036527 0.88973442 0.97346296\n",
      " 0.93991681 0.92984766 0.95829164 0.95756385 0.96418005 0.97155544\n",
      " 0.97144234 0.98138713 0.96290237 0.94997569 0.93753959 0.96237538\n",
      " 0.96832899 0.9813072  0.93847157 0.98911212 0.96100507 0.95115503\n",
      " 0.96475622 0.97403474 0.97158514 0.94576185 0.94240053 0.97075705\n",
      " 0.94568487 0.98667785 0.96495295 0.9694308  0.9577549  0.97778511\n",
      " 0.97149725 0.98663126 0.96802054 0.97885303 0.96810447 0.92822198\n",
      " 0.96336883 0.95479962 0.96305845 0.95956619 0.9667254  0.97132944\n",
      " 0.96990484 0.94158287 0.94877769 0.980765   0.98268549 0.97618632\n",
      " 0.95061842 0.96607812 0.96703452 0.92412081 0.98026725 0.97138192\n",
      " 0.95451069 0.97031286 0.97096721 0.97261022 0.95740658 0.94866146\n",
      " 0.96308401 0.9731419  0.9766437  0.94842877 0.96120425 0.96025735\n",
      " 0.95516332 0.91639451 0.95703671 0.92424229 0.98299719 0.96779976\n",
      " 0.91728898 0.97894264 0.95022405 0.95787318 0.95667168 0.98163272\n",
      " 0.96571331 0.94905214 0.92793509 0.98173302]\n"
     ]
    }
   ],
   "source": [
    "scores=cross_val_score(lr,train_x,train_y,cv=100,scoring='r2')  #it divide given training data in 100 fold and cross validate \n",
    "#on each fold\n",
    "print(scores)"
   ]
  },
  {
   "cell_type": "code",
   "execution_count": 75,
   "metadata": {},
   "outputs": [
    {
     "name": "stdout",
     "output_type": "stream",
     "text": [
      "0.9596036248874096\n"
     ]
    }
   ],
   "source": [
    "print(scores.mean())  #it give mean of all scores"
   ]
  },
  {
   "cell_type": "code",
   "execution_count": 76,
   "metadata": {},
   "outputs": [
    {
     "name": "stdout",
     "output_type": "stream",
     "text": [
      "0.01889872528906081\n"
     ]
    }
   ],
   "source": [
    "print(scores.std())   #it give std of scores"
   ]
  },
  {
   "cell_type": "code",
   "execution_count": 77,
   "metadata": {},
   "outputs": [
    {
     "name": "stdout",
     "output_type": "stream",
     "text": [
      "[1. 1. 1. 1. 1. 1. 1. 1. 1. 1. 1. 1. 1. 1. 1. 1. 1. 1. 1. 1. 1. 1. 1. 1.\n",
      " 1.]\n"
     ]
    }
   ],
   "source": [
    "scores1=cross_val_score(lr,test_x,test_y,cv=25,scoring='r2')\n",
    "print(scores1)"
   ]
  },
  {
   "cell_type": "markdown",
   "metadata": {},
   "source": []
  },
  {
   "cell_type": "markdown",
   "metadata": {},
   "source": [
    "## now we converting predicted data in csv file "
   ]
  },
  {
   "cell_type": "code",
   "execution_count": 79,
   "metadata": {},
   "outputs": [
    {
     "name": "stdout",
     "output_type": "stream",
     "text": [
      "<class 'numpy.ndarray'>\n",
      "(400,)\n"
     ]
    }
   ],
   "source": [
    "print(type(test_y))\n",
    "print(test_y.shape)"
   ]
  },
  {
   "cell_type": "code",
   "execution_count": 84,
   "metadata": {},
   "outputs": [
    {
     "name": "stdout",
     "output_type": "stream",
     "text": [
      "<class 'pandas.core.frame.DataFrame'>\n"
     ]
    },
    {
     "data": {
      "text/html": [
       "<div>\n",
       "<style scoped>\n",
       "    .dataframe tbody tr th:only-of-type {\n",
       "        vertical-align: middle;\n",
       "    }\n",
       "\n",
       "    .dataframe tbody tr th {\n",
       "        vertical-align: top;\n",
       "    }\n",
       "\n",
       "    .dataframe thead th {\n",
       "        text-align: right;\n",
       "    }\n",
       "</style>\n",
       "<table border=\"1\" class=\"dataframe\">\n",
       "  <thead>\n",
       "    <tr style=\"text-align: right;\">\n",
       "      <th></th>\n",
       "      <th>0</th>\n",
       "    </tr>\n",
       "  </thead>\n",
       "  <tbody>\n",
       "    <tr>\n",
       "      <th>0</th>\n",
       "      <td>114.583689</td>\n",
       "    </tr>\n",
       "    <tr>\n",
       "      <th>1</th>\n",
       "      <td>118.012815</td>\n",
       "    </tr>\n",
       "    <tr>\n",
       "      <th>2</th>\n",
       "      <td>-21.739852</td>\n",
       "    </tr>\n",
       "    <tr>\n",
       "      <th>3</th>\n",
       "      <td>-43.936899</td>\n",
       "    </tr>\n",
       "    <tr>\n",
       "      <th>4</th>\n",
       "      <td>-95.914898</td>\n",
       "    </tr>\n",
       "    <tr>\n",
       "      <th>5</th>\n",
       "      <td>-44.507424</td>\n",
       "    </tr>\n",
       "    <tr>\n",
       "      <th>6</th>\n",
       "      <td>-75.566526</td>\n",
       "    </tr>\n",
       "    <tr>\n",
       "      <th>7</th>\n",
       "      <td>23.820835</td>\n",
       "    </tr>\n",
       "    <tr>\n",
       "      <th>8</th>\n",
       "      <td>173.835284</td>\n",
       "    </tr>\n",
       "    <tr>\n",
       "      <th>9</th>\n",
       "      <td>172.849290</td>\n",
       "    </tr>\n",
       "    <tr>\n",
       "      <th>10</th>\n",
       "      <td>-105.402312</td>\n",
       "    </tr>\n",
       "    <tr>\n",
       "      <th>11</th>\n",
       "      <td>-20.802023</td>\n",
       "    </tr>\n",
       "    <tr>\n",
       "      <th>12</th>\n",
       "      <td>-3.913238</td>\n",
       "    </tr>\n",
       "    <tr>\n",
       "      <th>13</th>\n",
       "      <td>122.999186</td>\n",
       "    </tr>\n",
       "    <tr>\n",
       "      <th>14</th>\n",
       "      <td>40.307884</td>\n",
       "    </tr>\n",
       "    <tr>\n",
       "      <th>15</th>\n",
       "      <td>45.712850</td>\n",
       "    </tr>\n",
       "    <tr>\n",
       "      <th>16</th>\n",
       "      <td>-189.628491</td>\n",
       "    </tr>\n",
       "    <tr>\n",
       "      <th>17</th>\n",
       "      <td>22.612545</td>\n",
       "    </tr>\n",
       "    <tr>\n",
       "      <th>18</th>\n",
       "      <td>11.641047</td>\n",
       "    </tr>\n",
       "    <tr>\n",
       "      <th>19</th>\n",
       "      <td>136.342143</td>\n",
       "    </tr>\n",
       "  </tbody>\n",
       "</table>\n",
       "</div>"
      ],
      "text/plain": [
       "             0\n",
       "0   114.583689\n",
       "1   118.012815\n",
       "2   -21.739852\n",
       "3   -43.936899\n",
       "4   -95.914898\n",
       "5   -44.507424\n",
       "6   -75.566526\n",
       "7    23.820835\n",
       "8   173.835284\n",
       "9   172.849290\n",
       "10 -105.402312\n",
       "11  -20.802023\n",
       "12   -3.913238\n",
       "13  122.999186\n",
       "14   40.307884\n",
       "15   45.712850\n",
       "16 -189.628491\n",
       "17   22.612545\n",
       "18   11.641047\n",
       "19  136.342143"
      ]
     },
     "execution_count": 84,
     "metadata": {},
     "output_type": "execute_result"
    }
   ],
   "source": [
    "df=pd.DataFrame(test_y.flatten())\n",
    "print(type(df))\n",
    "df.head(n=20)   \n",
    "# we convert n-array data type to dataframe type"
   ]
  },
  {
   "cell_type": "code",
   "execution_count": 85,
   "metadata": {},
   "outputs": [
    {
     "data": {
      "text/html": [
       "<a download=\"data.csv\" href=\"data:text/csv;base64,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\" target=\"_blank\">Download CSV file</a>"
      ],
      "text/plain": [
       "<IPython.core.display.HTML object>"
      ]
     },
     "execution_count": 85,
     "metadata": {},
     "output_type": "execute_result"
    }
   ],
   "source": [
    "from IPython.display import HTML\n",
    "import base64  \n",
    "import pandas as pd  \n",
    "\n",
    "def create_download_link( df, title = \"Download CSV file\", filename = \"data.csv\"):  \n",
    "    csv = df.to_csv(index =False)\n",
    "    b64 = base64.b64encode(csv.encode())\n",
    "    payload = b64.decode()\n",
    "    html = '<a download=\"{filename}\" href=\"data:text/csv;base64,{payload}\" target=\"_blank\">{title}</a>'\n",
    "    html = html.format(payload=payload,title=title,filename=filename)\n",
    "    return HTML(html)\n",
    "\n",
    "create_download_link(df)"
   ]
  }
 ],
 "metadata": {
  "kernelspec": {
   "display_name": "Python 3",
   "language": "python",
   "name": "python3"
  },
  "language_info": {
   "codemirror_mode": {
    "name": "ipython",
    "version": 3
   },
   "file_extension": ".py",
   "mimetype": "text/x-python",
   "name": "python",
   "nbconvert_exporter": "python",
   "pygments_lexer": "ipython3",
   "version": "3.7.3"
  }
 },
 "nbformat": 4,
 "nbformat_minor": 2
}
